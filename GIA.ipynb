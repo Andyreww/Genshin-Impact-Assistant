{
 "cells": [
  {
   "cell_type": "markdown",
   "id": "44cdbf09",
   "metadata": {},
   "source": [
    "# Genshin Impact: Assistant\n",
    "### Name: Andrew Angulo\n",
    "\n",
    "----------"
   ]
  },
  {
   "cell_type": "markdown",
   "id": "409edfc4",
   "metadata": {},
   "source": [
    "# Preface: \n",
    "\n",
    "If you've been diving into the world of Genshin Impact, you probably know how exciting and challenging\n",
    "it can be. Some folks find it like a dream come true, while for others, it's more like a quest. But what's that\n",
    "quest all about? Well, think about any game you've played – there's always those newcomers who want to\n",
    "rock the leaderboard, right? In Genshin Impact, it's no different. There are spots in the game where you\n",
    "can test how strong your squad is. And that's where my Python script comes into play – it's designed to\n",
    "give you a hand in reaching those goals.\n",
    "See, Genshin Impact is all about building a team that packs a punch. You've got these cool areas where\n",
    "you can measure just how tough your characters are. To make them even tougher, players spend time\n",
    "getting better artifacts – those are like power-ups for your characters. With my Python script, the aim is to\n",
    "help you figure out which character should be your go-to powerhouse, your \"main carry,\" as you make\n",
    "your mark in the game. So, let's team up and tackle those Genshin Impact challenges together!\n",
    "\n",
    "\n",
    "# Goals:\n",
    "- Be able to view their loadout without logging into the game\n",
    "- Determine which artifacts work best for any character\n",
    "- Create teams to allow them to prioritize their damage\n",
    "- Give them basic information on a character\n",
    "- Alert them of upcoming events\n",
    "- Compare characters with other players\n",
    "- Rate their artifacts\n",
    "---\n",
    "\n",
    "\n"
   ]
  },
  {
   "cell_type": "markdown",
   "id": "1e3185ad",
   "metadata": {},
   "source": [
    "### Description of Imports:\n",
    "\n",
    "- we use **pandas** so once we grab our data and store it into a Dictionary of List we can then transfer that data into a Dataframe\n",
    "\n",
    "\n",
    "- we use **requests** so we can grab all of the HTML from just the URL\n",
    "\n",
    "\n",
    "- we use **lmxl import html** because since we are working with **requests** we can utilize xpath to parse and traverse the html contents and return the data we need\n",
    "\n",
    "\n",
    "- we use **os.path** in order to obtain the file based on the location specificed within the computer\n",
    "\n",
    "\n",
    "- we use **json** so we are able to load data from a JSON files such as creds.json\n",
    "\n",
    "\n",
    "- we use **sqlalchemy** so we are able to interact with the SQL database"
   ]
  },
  {
   "cell_type": "code",
   "execution_count": 130,
   "id": "130e122d",
   "metadata": {},
   "outputs": [
    {
     "name": "stdout",
     "output_type": "stream",
     "text": [
      "Requirement already satisfied: enkanetwork.py in c:\\users\\ajang\\anaconda3\\lib\\site-packages (1.4.5)\n",
      "Requirement already satisfied: aiohttp in c:\\users\\ajang\\anaconda3\\lib\\site-packages (from enkanetwork.py) (3.8.6)\n",
      "Requirement already satisfied: cachetools in c:\\users\\ajang\\anaconda3\\lib\\site-packages (from enkanetwork.py) (5.3.1)\n",
      "Requirement already satisfied: pydantic in c:\\users\\ajang\\anaconda3\\lib\\site-packages (from enkanetwork.py) (2.4.2)\n",
      "Requirement already satisfied: attrs>=17.3.0 in c:\\users\\ajang\\anaconda3\\lib\\site-packages (from aiohttp->enkanetwork.py) (20.3.0)\n",
      "Requirement already satisfied: async-timeout<5.0,>=4.0.0a3 in c:\\users\\ajang\\anaconda3\\lib\\site-packages (from aiohttp->enkanetwork.py) (4.0.3)\n",
      "Requirement already satisfied: aiosignal>=1.1.2 in c:\\users\\ajang\\anaconda3\\lib\\site-packages (from aiohttp->enkanetwork.py) (1.3.1)\n",
      "Requirement already satisfied: charset-normalizer<4.0,>=2.0 in c:\\users\\ajang\\anaconda3\\lib\\site-packages (from aiohttp->enkanetwork.py) (3.3.0)\n",
      "Requirement already satisfied: yarl<2.0,>=1.0 in c:\\users\\ajang\\anaconda3\\lib\\site-packages (from aiohttp->enkanetwork.py) (1.9.2)\n",
      "Requirement already satisfied: frozenlist>=1.1.1 in c:\\users\\ajang\\anaconda3\\lib\\site-packages (from aiohttp->enkanetwork.py) (1.4.0)\n",
      "Requirement already satisfied: multidict<7.0,>=4.5 in c:\\users\\ajang\\anaconda3\\lib\\site-packages (from aiohttp->enkanetwork.py) (6.0.4)\n",
      "Requirement already satisfied: idna>=2.0 in c:\\users\\ajang\\anaconda3\\lib\\site-packages (from yarl<2.0,>=1.0->aiohttp->enkanetwork.py) (2.10)\n",
      "Requirement already satisfied: pydantic-core==2.10.1 in c:\\users\\ajang\\anaconda3\\lib\\site-packages (from pydantic->enkanetwork.py) (2.10.1)\n",
      "Requirement already satisfied: annotated-types>=0.4.0 in c:\\users\\ajang\\anaconda3\\lib\\site-packages (from pydantic->enkanetwork.py) (0.6.0)\n",
      "Requirement already satisfied: typing-extensions>=4.6.1 in c:\\users\\ajang\\anaconda3\\lib\\site-packages (from pydantic->enkanetwork.py) (4.8.0)\n"
     ]
    }
   ],
   "source": [
    "!pip install enkanetwork.py\n",
    "\n",
    "\n",
    "import pandas as pd\n",
    "import requests\n",
    "import os.path\n",
    "import json\n",
    "import sqlalchemy as sa\n",
    "import asyncio\n",
    "import pprint\n",
    "from lxml import html\n",
    "from enkanetwork import EnkaNetworkAPI\n",
    "from enkanetwork import EquipmentsType, DigitType"
   ]
  },
  {
   "cell_type": "markdown",
   "id": "1e25de01",
   "metadata": {},
   "source": [
    "### Utilizing EnkaNetwork API"
   ]
  },
  {
   "cell_type": "code",
   "execution_count": 131,
   "id": "0b1a8c56",
   "metadata": {},
   "outputs": [
    {
     "name": "stdout",
     "output_type": "stream",
     "text": [
      "=== Player Info ===\n",
      "Nickname: Pheubell\n",
      "Level: 60\n",
      "Icon: https://enka.network/ui/UI_AvatarIcon_Beidou.png\n",
      "Signature: i will seggs beidou and cyno\n",
      "Achievement: 1044\n",
      "Abyss floor: 12 - 3\n",
      "Cache timeout: 60\n"
     ]
    }
   ],
   "source": [
    "# Afif UID: 607566990\n",
    "# Pheu UID: 701473745\n",
    "# ---------------------------------------------------- #\n",
    "UID = 701473745\n",
    "client = EnkaNetworkAPI()\n",
    "data = await client.fetch_user(UID)\n",
    "\n",
    "async def main():\n",
    "    async with client:\n",
    "        print(\"=== Player Info ===\")\n",
    "        print(f\"Nickname: {data.player.nickname}\")\n",
    "        print(f\"Level: {data.player.level}\")\n",
    "        print(f\"Icon: {data.player.avatar.icon.url}\")\n",
    "        print(f\"Signature: {data.player.signature}\")\n",
    "        print(f\"Achievement: {data.player.achievement}\")\n",
    "        print(f\"Abyss floor: {data.player.abyss_floor} - {data.player.abyss_room}\")\n",
    "        print(f\"Cache timeout: {data.ttl}\")\n",
    "\n",
    "await main()"
   ]
  },
  {
   "cell_type": "markdown",
   "id": "d32e2f6b",
   "metadata": {},
   "source": [
    "### Fetching Character Data"
   ]
  },
  {
   "cell_type": "code",
   "execution_count": 132,
   "id": "e633a683",
   "metadata": {},
   "outputs": [
    {
     "name": "stdout",
     "output_type": "stream",
     "text": [
      "{'Characters': ['Yae Miko', 'Yelan', 'Dehya', 'Raiden Shogun', 'Hu Tao', 'Eula', 'Nahida', 'Kamisato Ayaka'], 'Level': [90, 90, 90, 90, 90, 90, 90, 90], 'Element': ['Electric', 'Water', 'Fire', 'Electric', 'Fire', 'Ice', 'Grass', 'Ice']}\n"
     ]
    }
   ],
   "source": [
    "players_Characters = {'Characters':[], 'Level':[], 'Element':[], }\n",
    "async def characters():\n",
    "    async with client:\n",
    "        for char in data.characters:\n",
    "            players_Characters['Characters'].append(char.name)\n",
    "            players_Characters['Level'].append(char.level)\n",
    "            players_Characters['Element'].append(char.element[0:10])\n",
    "\n",
    "            \n",
    "await characters()\n",
    "\n",
    "print(players_Characters)"
   ]
  },
  {
   "cell_type": "markdown",
   "id": "910bbc5f",
   "metadata": {},
   "source": [
    "### Fetching Artifact Data"
   ]
  },
  {
   "cell_type": "code",
   "execution_count": 134,
   "id": "65fcf06b",
   "metadata": {},
   "outputs": [
    {
     "name": "stdout",
     "output_type": "stream",
     "text": [
      "{  'Artifact_Level': [  [20, 20, 20, 20, 20],\n",
      "                        [20, 20, 20, 20, 20],\n",
      "                        [20, 20, 20, 20, 20],\n",
      "                        [20, 20, 20, 20, 20],\n",
      "                        [20, 20, 20, 20, 20],\n",
      "                        [20, 20, 20, 20, 20],\n",
      "                        [20, 20, 20, 20, 20],\n",
      "                        [20, 20, 20, 20, 20]],\n",
      "   'Artifact_Name': [  [  \"Gladiator's Nostalgia\",\n",
      "                          \"Gladiator's Destiny\",\n",
      "                          'Hourglass of Thunder',\n",
      "                          'Scarlet Vessel',\n",
      "                          \"Thunder Summoner's Crown\"],\n",
      "                       [  'Magnificent Tsuba',\n",
      "                          'Sundered Feather',\n",
      "                          'Storm Cage',\n",
      "                          'Goblet of Thundering Deep',\n",
      "                          'Ornate Kabuto'],\n",
      "                       [  'Magnificent Tsuba',\n",
      "                          'Sundered Feather',\n",
      "                          'Storm Cage',\n",
      "                          'Pearl Cage',\n",
      "                          'Ornate Kabuto'],\n",
      "                       [  'Magnificent Tsuba',\n",
      "                          'Sundered Feather',\n",
      "                          \"Lavawalker's Torment\",\n",
      "                          'Scarlet Vessel',\n",
      "                          'Ornate Kabuto'],\n",
      "                       [  \"Witch's Flower of Blaze\",\n",
      "                          \"Witch's Ever-Burning Plume\",\n",
      "                          \"Witch's End Time\",\n",
      "                          \"Witch's Heart Flames\",\n",
      "                          \"Maiden's Fading Beauty\"],\n",
      "                       [  'Stainless Bloom',\n",
      "                          \"Wise Doctor's Pinion\",\n",
      "                          'Moment of Cessation',\n",
      "                          'Lamp of the Lost',\n",
      "                          'Mocking Mask'],\n",
      "                       [  'Labyrinth Wayfarer',\n",
      "                          'Scholar of Vines',\n",
      "                          'A Time of Insight',\n",
      "                          'Chalice of the Font',\n",
      "                          'Laurel Coronet'],\n",
      "                       [  'Snowswept Memory',\n",
      "                          \"Icebreaker's Resolve\",\n",
      "                          \"Frozen Homeland's Demise\",\n",
      "                          'Omen of Thunderstorm',\n",
      "                          \"Broken Rime's Echo\"]]}\n"
     ]
    }
   ],
   "source": [
    "Artifacts = {'Artifact_Name':[], 'Artifact_Level':[]}\n",
    "artfList = []\n",
    "artfLevel = []\n",
    "\n",
    "async def artifact():\n",
    "    atfNamePH = []\n",
    "    atfLevelPH = []\n",
    "    async with client:\n",
    "        for char in data.characters:   \n",
    "            for artf in filter(lambda x: x.type == EquipmentsType.ARTIFACT, char.equipments):\n",
    "                atfNamePH.append(artf.detail.name)\n",
    "                atfLevelPH.append(artf.level)\n",
    "                \n",
    "        for i in range(len(atfNamePH)):\n",
    "            artfList.append(atfNamePH[i])\n",
    "            artfLevel.append(atfLevelPH[i])\n",
    "            #print(artfList)  #Debug\n",
    "            if(len(artfList) == 5):\n",
    "                #print(artfList) #Debug\n",
    "                Artifacts['Artifact_Name'].append(artfList.copy()) #Copies Artifact name\n",
    "                Artifacts['Artifact_Level'].append(artfLevel.copy()) #Copies Artifact Level\n",
    "                artfList.clear()\n",
    "                artfLevel.clear()\n",
    "                \n",
    "                \n",
    "await artifact()\n",
    "\n",
    "pp = pprint.PrettyPrinter(indent=3)\n",
    "pp.pprint(Artifacts)"
   ]
  },
  {
   "cell_type": "markdown",
   "id": "9db6ac44",
   "metadata": {},
   "source": [
    "### Information comes together\n"
   ]
  },
  {
   "cell_type": "code",
   "execution_count": 215,
   "id": "92978366",
   "metadata": {},
   "outputs": [
    {
     "name": "stdout",
     "output_type": "stream",
     "text": [
      "{'Yae Miko': {\"Gladiator's Nostalgia\": {'HP': {'DEF': '19', 'CRIT DMG': '24.9%', 'Elemental Mastery': '23', 'CRIT Rate': '6.6%'}}, \"Gladiator's Destiny\": {'ATK': {'CRIT Rate': '17.9%', 'CRIT DMG': '7.8%', 'ATK': '9.9%', 'DEF': '23'}}, 'Hourglass of Thunder': {'Elemental Mastery': {'ATK': '4.1%', 'CRIT DMG': '20.2%', 'HP': '15.7%', 'CRIT Rate': '7.8%'}}, 'Scarlet Vessel': {'Electro DMG Bonus': {'CRIT Rate': '6.6%', 'HP': '9.9%', 'CRIT DMG': '19.4%', 'Elemental Mastery': '44'}}, \"Thunder Summoner's Crown\": {'CRIT DMG': {'Elemental Mastery': '47', 'CRIT Rate': '9.3%', 'DEF': '5.1%'}}, 'Magnificent Tsuba': {}, 'Sundered Feather': {}, 'Storm Cage': {}, 'Goblet of Thundering Deep': {}, 'Ornate Kabuto': {}, 'Pearl Cage': {}, \"Lavawalker's Torment\": {}, \"Witch's Flower of Blaze\": {}, \"Witch's Ever-Burning Plume\": {}, \"Witch's End Time\": {}, \"Witch's Heart Flames\": {}, \"Maiden's Fading Beauty\": {}, 'Stainless Bloom': {}, \"Wise Doctor's Pinion\": {}, 'Moment of Cessation': {}, 'Lamp of the Lost': {}, 'Mocking Mask': {}, 'Labyrinth Wayfarer': {}, 'Scholar of Vines': {}, 'A Time of Insight': {}, 'Chalice of the Font': {}, 'Laurel Coronet': {}, 'Snowswept Memory': {}, \"Icebreaker's Resolve\": {}, \"Frozen Homeland's Demise\": {}, 'Omen of Thunderstorm': {}, \"Broken Rime's Echo\": {}}, 'Yelan': {\"Gladiator's Nostalgia\": {}, \"Gladiator's Destiny\": {}, 'Hourglass of Thunder': {}, 'Scarlet Vessel': {}, \"Thunder Summoner's Crown\": {}, 'Magnificent Tsuba': {'HP': {'HP': '14.0%', 'Energy Recharge': '6.5%', 'CRIT Rate': '8.9%', 'CRIT DMG': '14.0%'}}, 'Sundered Feather': {'ATK': {'Energy Recharge': '9.7%', 'DEF': '13.1%', 'CRIT Rate': '12.4%', 'CRIT DMG': '7.0%'}}, 'Storm Cage': {'HP': {'CRIT DMG': '21.0%', 'Energy Recharge': '10.4%', 'CRIT Rate': '3.1%', 'ATK': '10.5%'}}, 'Goblet of Thundering Deep': {'Hydro DMG Bonus': {'HP': '5.3%', 'CRIT DMG': '11.7%', 'CRIT Rate': '10.9%'}}, 'Ornate Kabuto': {'CRIT DMG': {'DEF': '21', 'Energy Recharge': '13.0%', 'HP': '10.5%', 'CRIT Rate': '10.9%'}}, 'Pearl Cage': {}, \"Lavawalker's Torment\": {}, \"Witch's Flower of Blaze\": {}, \"Witch's Ever-Burning Plume\": {}, \"Witch's End Time\": {}, \"Witch's Heart Flames\": {}, \"Maiden's Fading Beauty\": {}, 'Stainless Bloom': {}, \"Wise Doctor's Pinion\": {}, 'Moment of Cessation': {}, 'Lamp of the Lost': {}, 'Mocking Mask': {}, 'Labyrinth Wayfarer': {}, 'Scholar of Vines': {}, 'A Time of Insight': {}, 'Chalice of the Font': {}, 'Laurel Coronet': {}, 'Snowswept Memory': {}, \"Icebreaker's Resolve\": {}, \"Frozen Homeland's Demise\": {}, 'Omen of Thunderstorm': {}, \"Broken Rime's Echo\": {}}, 'Dehya': {\"Gladiator's Nostalgia\": {}, \"Gladiator's Destiny\": {}, 'Hourglass of Thunder': {}, 'Scarlet Vessel': {}, \"Thunder Summoner's Crown\": {}, 'Magnificent Tsuba': {'HP': {'HP': '5.8%', 'ATK': '5.3%', 'CRIT Rate': '10.5%', 'CRIT DMG': '21.8%'}}, 'Sundered Feather': {'ATK': {'CRIT Rate': '3.5%', 'HP': '10.5%', 'Elemental Mastery': '19', 'CRIT DMG': '26.4%'}}, 'Storm Cage': {'Energy Recharge': {'ATK': '68', 'CRIT DMG': '7.8%', 'DEF': '23', 'CRIT Rate': '9.7%'}}, 'Goblet of Thundering Deep': {}, 'Ornate Kabuto': {'CRIT DMG': {'DEF': '5.8%', 'CRIT Rate': '5.8%', 'Energy Recharge': '16.2%', 'HP': '538'}}, 'Pearl Cage': {'Pyro DMG Bonus': {'Energy Recharge': '5.2%', 'CRIT Rate': '3.5%', 'CRIT DMG': '33.4%', 'ATK': '4.1%'}}, \"Lavawalker's Torment\": {}, \"Witch's Flower of Blaze\": {}, \"Witch's Ever-Burning Plume\": {}, \"Witch's End Time\": {}, \"Witch's Heart Flames\": {}, \"Maiden's Fading Beauty\": {}, 'Stainless Bloom': {}, \"Wise Doctor's Pinion\": {}, 'Moment of Cessation': {}, 'Lamp of the Lost': {}, 'Mocking Mask': {}, 'Labyrinth Wayfarer': {}, 'Scholar of Vines': {}, 'A Time of Insight': {}, 'Chalice of the Font': {}, 'Laurel Coronet': {}, 'Snowswept Memory': {}, \"Icebreaker's Resolve\": {}, \"Frozen Homeland's Demise\": {}, 'Omen of Thunderstorm': {}, \"Broken Rime's Echo\": {}}, 'Raiden Shogun': {\"Gladiator's Nostalgia\": {}, \"Gladiator's Destiny\": {}, 'Hourglass of Thunder': {}, 'Scarlet Vessel': {'Electro DMG Bonus': {'HP': '538', 'CRIT Rate': '7.0%', 'ATK': '4.7%', 'CRIT DMG': '27.2%'}}, \"Thunder Summoner's Crown\": {}, 'Magnificent Tsuba': {'HP': {'CRIT Rate': '10.1%', 'HP': '4.7%', 'CRIT DMG': '21.0%', 'DEF': '13.1%'}}, 'Sundered Feather': {'ATK': {'Elemental Mastery': '16', 'DEF': '16', 'CRIT Rate': '15.9%', 'CRIT DMG': '7.0%'}}, 'Storm Cage': {}, 'Goblet of Thundering Deep': {}, 'Ornate Kabuto': {'CRIT DMG': {'CRIT Rate': '17.1%', 'Elemental Mastery': '19', 'HP': '5.3%', 'ATK': '4.7%'}}, 'Pearl Cage': {}, \"Lavawalker's Torment\": {'Energy Recharge': {'ATK': '9.3%', 'CRIT Rate': '10.5%', 'CRIT DMG': '14.0%', 'DEF': '23'}}, \"Witch's Flower of Blaze\": {}, \"Witch's Ever-Burning Plume\": {}, \"Witch's End Time\": {}, \"Witch's Heart Flames\": {}, \"Maiden's Fading Beauty\": {}, 'Stainless Bloom': {}, \"Wise Doctor's Pinion\": {}, 'Moment of Cessation': {}, 'Lamp of the Lost': {}, 'Mocking Mask': {}, 'Labyrinth Wayfarer': {}, 'Scholar of Vines': {}, 'A Time of Insight': {}, 'Chalice of the Font': {}, 'Laurel Coronet': {}, 'Snowswept Memory': {}, \"Icebreaker's Resolve\": {}, \"Frozen Homeland's Demise\": {}, 'Omen of Thunderstorm': {}, \"Broken Rime's Echo\": {}}, 'Hu Tao': {\"Gladiator's Nostalgia\": {}, \"Gladiator's Destiny\": {}, 'Hourglass of Thunder': {}, 'Scarlet Vessel': {}, \"Thunder Summoner's Crown\": {}, 'Magnificent Tsuba': {}, 'Sundered Feather': {}, 'Storm Cage': {}, 'Goblet of Thundering Deep': {}, 'Ornate Kabuto': {}, 'Pearl Cage': {}, \"Lavawalker's Torment\": {}, \"Witch's Flower of Blaze\": {'HP': {'CRIT Rate': '5.8%', 'DEF': '21', 'CRIT DMG': '21.8%', 'Elemental Mastery': '42'}}, \"Witch's Ever-Burning Plume\": {'ATK': {'CRIT Rate': '8.6%', 'CRIT DMG': '14.8%', 'Elemental Mastery': '42', 'HP': '299'}}, \"Witch's End Time\": {'HP': {'DEF': '5.8%', 'Energy Recharge': '4.5%', 'CRIT DMG': '12.4%', 'CRIT Rate': '11.7%'}}, \"Witch's Heart Flames\": {'Pyro DMG Bonus': {'HP': '418', 'CRIT Rate': '10.1%', 'CRIT DMG': '10.9%', 'ATK': '5.8%'}}, \"Maiden's Fading Beauty\": {'CRIT Rate': {'CRIT DMG': '25.6%', 'HP': '16.9%', 'DEF': '19', 'Elemental Mastery': '21'}}, 'Stainless Bloom': {}, \"Wise Doctor's Pinion\": {}, 'Moment of Cessation': {}, 'Lamp of the Lost': {}, 'Mocking Mask': {}, 'Labyrinth Wayfarer': {}, 'Scholar of Vines': {}, 'A Time of Insight': {}, 'Chalice of the Font': {}, 'Laurel Coronet': {}, 'Snowswept Memory': {}, \"Icebreaker's Resolve\": {}, \"Frozen Homeland's Demise\": {}, 'Omen of Thunderstorm': {}, \"Broken Rime's Echo\": {}}, 'Eula': {\"Gladiator's Nostalgia\": {}, \"Gladiator's Destiny\": {}, 'Hourglass of Thunder': {}, 'Scarlet Vessel': {}, \"Thunder Summoner's Crown\": {}, 'Magnificent Tsuba': {}, 'Sundered Feather': {}, 'Storm Cage': {}, 'Goblet of Thundering Deep': {}, 'Ornate Kabuto': {}, 'Pearl Cage': {}, \"Lavawalker's Torment\": {}, \"Witch's Flower of Blaze\": {}, \"Witch's Ever-Burning Plume\": {}, \"Witch's End Time\": {}, \"Witch's Heart Flames\": {}, \"Maiden's Fading Beauty\": {}, 'Stainless Bloom': {'HP': {'DEF': '16', 'ATK': '5.8%', 'CRIT DMG': '14.0%', 'CRIT Rate': '13.6%'}}, \"Wise Doctor's Pinion\": {'ATK': {'CRIT Rate': '11.7%', 'HP': '21.0%', 'CRIT DMG': '7.8%', 'Elemental Mastery': '23'}}, 'Moment of Cessation': {'ATK': {'Energy Recharge': '16.8%', 'DEF': '23', 'CRIT DMG': '13.2%', 'CRIT Rate': '7.4%'}}, 'Lamp of the Lost': {'Physical DMG Bonus': {'ATK': '4.7%', 'CRIT DMG': '35.0%', 'CRIT Rate': '3.9%', 'DEF': '16'}}, 'Mocking Mask': {'CRIT Rate': {'CRIT DMG': '26.4%', 'DEF': '7.3%', 'Energy Recharge': '11.0%'}}, 'Labyrinth Wayfarer': {}, 'Scholar of Vines': {}, 'A Time of Insight': {}, 'Chalice of the Font': {}, 'Laurel Coronet': {}, 'Snowswept Memory': {}, \"Icebreaker's Resolve\": {}, \"Frozen Homeland's Demise\": {}, 'Omen of Thunderstorm': {}, \"Broken Rime's Echo\": {}}, 'Nahida': {\"Gladiator's Nostalgia\": {}, \"Gladiator's Destiny\": {}, 'Hourglass of Thunder': {}, 'Scarlet Vessel': {}, \"Thunder Summoner's Crown\": {}, 'Magnificent Tsuba': {}, 'Sundered Feather': {}, 'Storm Cage': {}, 'Goblet of Thundering Deep': {}, 'Ornate Kabuto': {}, 'Pearl Cage': {}, \"Lavawalker's Torment\": {}, \"Witch's Flower of Blaze\": {}, \"Witch's Ever-Burning Plume\": {}, \"Witch's End Time\": {}, \"Witch's Heart Flames\": {}, \"Maiden's Fading Beauty\": {}, 'Stainless Bloom': {}, \"Wise Doctor's Pinion\": {}, 'Moment of Cessation': {}, 'Lamp of the Lost': {}, 'Mocking Mask': {}, 'Labyrinth Wayfarer': {'HP': {'Energy Recharge': '6.5%', 'CRIT DMG': '27.2%', 'CRIT Rate': '3.9%', 'DEF': '12.4%'}}, 'Scholar of Vines': {'ATK': {'DEF': '16', 'CRIT DMG': '35.0%', 'Elemental Mastery': '42'}}, 'A Time of Insight': {'Elemental Mastery': {'CRIT DMG': '19.4%', 'HP': '4.7%', 'ATK': '16', 'Energy Recharge': '14.2%'}}, 'Chalice of the Font': {'Elemental Mastery': {'DEF': '39', 'CRIT DMG': '23.3%', 'CRIT Rate': '10.1%', 'HP': '239'}}, 'Laurel Coronet': {'CRIT Rate': {'HP': '5.8%', 'Elemental Mastery': '21', 'DEF': '12.4%', 'CRIT DMG': '28.8%'}}, 'Snowswept Memory': {}, \"Icebreaker's Resolve\": {}, \"Frozen Homeland's Demise\": {}, 'Omen of Thunderstorm': {}, \"Broken Rime's Echo\": {}}, 'Kamisato Ayaka': {\"Gladiator's Nostalgia\": {}, \"Gladiator's Destiny\": {}, 'Hourglass of Thunder': {}, 'Scarlet Vessel': {}, \"Thunder Summoner's Crown\": {}, 'Magnificent Tsuba': {}, 'Sundered Feather': {}, 'Storm Cage': {}, 'Goblet of Thundering Deep': {}, 'Ornate Kabuto': {}, 'Pearl Cage': {}, \"Lavawalker's Torment\": {}, \"Witch's Flower of Blaze\": {}, \"Witch's Ever-Burning Plume\": {}, \"Witch's End Time\": {}, \"Witch's Heart Flames\": {}, \"Maiden's Fading Beauty\": {}, 'Stainless Bloom': {}, \"Wise Doctor's Pinion\": {}, 'Moment of Cessation': {}, 'Lamp of the Lost': {}, 'Mocking Mask': {}, 'Labyrinth Wayfarer': {}, 'Scholar of Vines': {}, 'A Time of Insight': {}, 'Chalice of the Font': {}, 'Laurel Coronet': {}, 'Snowswept Memory': {'HP': {'ATK': '15.7%', 'Elemental Mastery': '44', 'CRIT Rate': '3.9%', 'CRIT DMG': '20.2%'}}, \"Icebreaker's Resolve\": {'ATK': {'HP': '209', 'CRIT Rate': '6.6%', 'Energy Recharge': '22.0%', 'CRIT DMG': '5.4%'}}, \"Frozen Homeland's Demise\": {'ATK': {'DEF': '6.6%', 'ATK': '19', 'CRIT DMG': '27.2%', 'HP': '9.9%'}}, 'Omen of Thunderstorm': {'Cryo DMG Bonus': {'ATK': '31', 'CRIT Rate': '6.6%', 'CRIT DMG': '29.5%', 'Energy Recharge': '6.5%'}}, \"Broken Rime's Echo\": {'CRIT DMG': {'HP': '299', 'ATK': '4.7%', 'DEF': '6.6%', 'CRIT Rate': '16.7%'}}}}\n",
      "{'Yae Miko': {\"Gladiator's Nostalgia\": {'HP': {'DEF': '19', 'CRIT DMG': '24.9%', 'Elemental Mastery': '23', 'CRIT Rate': '6.6%'}}, \"Gladiator's Destiny\": {'ATK': {'CRIT Rate': '17.9%', 'CRIT DMG': '7.8%', 'ATK': '9.9%', 'DEF': '23'}}, 'Hourglass of Thunder': {'Elemental Mastery': {'ATK': '4.1%', 'CRIT DMG': '20.2%', 'HP': '15.7%', 'CRIT Rate': '7.8%'}}, 'Scarlet Vessel': {'Electro DMG Bonus': {'CRIT Rate': '6.6%', 'HP': '9.9%', 'CRIT DMG': '19.4%', 'Elemental Mastery': '44'}}, \"Thunder Summoner's Crown\": {'CRIT DMG': {'Elemental Mastery': '47', 'CRIT Rate': '9.3%', 'DEF': '5.1%'}}, 'Magnificent Tsuba': {}, 'Sundered Feather': {}, 'Storm Cage': {}, 'Goblet of Thundering Deep': {}, 'Ornate Kabuto': {}, 'Pearl Cage': {}, \"Lavawalker's Torment\": {}, \"Witch's Flower of Blaze\": {}, \"Witch's Ever-Burning Plume\": {}, \"Witch's End Time\": {}, \"Witch's Heart Flames\": {}, \"Maiden's Fading Beauty\": {}, 'Stainless Bloom': {}, \"Wise Doctor's Pinion\": {}, 'Moment of Cessation': {}, 'Lamp of the Lost': {}, 'Mocking Mask': {}, 'Labyrinth Wayfarer': {}, 'Scholar of Vines': {}, 'A Time of Insight': {}, 'Chalice of the Font': {}, 'Laurel Coronet': {}, 'Snowswept Memory': {}, \"Icebreaker's Resolve\": {}, \"Frozen Homeland's Demise\": {}, 'Omen of Thunderstorm': {}, \"Broken Rime's Echo\": {}}, 'Yelan': {\"Gladiator's Nostalgia\": {}, \"Gladiator's Destiny\": {}, 'Hourglass of Thunder': {}, 'Scarlet Vessel': {}, \"Thunder Summoner's Crown\": {}, 'Magnificent Tsuba': {'HP': {'HP': '14.0%', 'Energy Recharge': '6.5%', 'CRIT Rate': '8.9%', 'CRIT DMG': '14.0%'}}, 'Sundered Feather': {'ATK': {'Energy Recharge': '9.7%', 'DEF': '13.1%', 'CRIT Rate': '12.4%', 'CRIT DMG': '7.0%'}}, 'Storm Cage': {'HP': {'CRIT DMG': '21.0%', 'Energy Recharge': '10.4%', 'CRIT Rate': '3.1%', 'ATK': '10.5%'}}, 'Goblet of Thundering Deep': {'Hydro DMG Bonus': {'HP': '5.3%', 'CRIT DMG': '11.7%', 'CRIT Rate': '10.9%'}}, 'Ornate Kabuto': {'CRIT DMG': {'DEF': '21', 'Energy Recharge': '13.0%', 'HP': '10.5%', 'CRIT Rate': '10.9%'}}, 'Pearl Cage': {}, \"Lavawalker's Torment\": {}, \"Witch's Flower of Blaze\": {}, \"Witch's Ever-Burning Plume\": {}, \"Witch's End Time\": {}, \"Witch's Heart Flames\": {}, \"Maiden's Fading Beauty\": {}, 'Stainless Bloom': {}, \"Wise Doctor's Pinion\": {}, 'Moment of Cessation': {}, 'Lamp of the Lost': {}, 'Mocking Mask': {}, 'Labyrinth Wayfarer': {}, 'Scholar of Vines': {}, 'A Time of Insight': {}, 'Chalice of the Font': {}, 'Laurel Coronet': {}, 'Snowswept Memory': {}, \"Icebreaker's Resolve\": {}, \"Frozen Homeland's Demise\": {}, 'Omen of Thunderstorm': {}, \"Broken Rime's Echo\": {}}, 'Dehya': {\"Gladiator's Nostalgia\": {}, \"Gladiator's Destiny\": {}, 'Hourglass of Thunder': {}, 'Scarlet Vessel': {}, \"Thunder Summoner's Crown\": {}, 'Magnificent Tsuba': {'HP': {'HP': '5.8%', 'ATK': '5.3%', 'CRIT Rate': '10.5%', 'CRIT DMG': '21.8%'}}, 'Sundered Feather': {'ATK': {'CRIT Rate': '3.5%', 'HP': '10.5%', 'Elemental Mastery': '19', 'CRIT DMG': '26.4%'}}, 'Storm Cage': {'Energy Recharge': {'ATK': '68', 'CRIT DMG': '7.8%', 'DEF': '23', 'CRIT Rate': '9.7%'}}, 'Goblet of Thundering Deep': {}, 'Ornate Kabuto': {'CRIT DMG': {'DEF': '5.8%', 'CRIT Rate': '5.8%', 'Energy Recharge': '16.2%', 'HP': '538'}}, 'Pearl Cage': {'Pyro DMG Bonus': {'Energy Recharge': '5.2%', 'CRIT Rate': '3.5%', 'CRIT DMG': '33.4%', 'ATK': '4.1%'}}, \"Lavawalker's Torment\": {}, \"Witch's Flower of Blaze\": {}, \"Witch's Ever-Burning Plume\": {}, \"Witch's End Time\": {}, \"Witch's Heart Flames\": {}, \"Maiden's Fading Beauty\": {}, 'Stainless Bloom': {}, \"Wise Doctor's Pinion\": {}, 'Moment of Cessation': {}, 'Lamp of the Lost': {}, 'Mocking Mask': {}, 'Labyrinth Wayfarer': {}, 'Scholar of Vines': {}, 'A Time of Insight': {}, 'Chalice of the Font': {}, 'Laurel Coronet': {}, 'Snowswept Memory': {}, \"Icebreaker's Resolve\": {}, \"Frozen Homeland's Demise\": {}, 'Omen of Thunderstorm': {}, \"Broken Rime's Echo\": {}}, 'Raiden Shogun': {\"Gladiator's Nostalgia\": {}, \"Gladiator's Destiny\": {}, 'Hourglass of Thunder': {}, 'Scarlet Vessel': {'Electro DMG Bonus': {'HP': '538', 'CRIT Rate': '7.0%', 'ATK': '4.7%', 'CRIT DMG': '27.2%'}}, \"Thunder Summoner's Crown\": {}, 'Magnificent Tsuba': {'HP': {'CRIT Rate': '10.1%', 'HP': '4.7%', 'CRIT DMG': '21.0%', 'DEF': '13.1%'}}, 'Sundered Feather': {'ATK': {'Elemental Mastery': '16', 'DEF': '16', 'CRIT Rate': '15.9%', 'CRIT DMG': '7.0%'}}, 'Storm Cage': {}, 'Goblet of Thundering Deep': {}, 'Ornate Kabuto': {'CRIT DMG': {'CRIT Rate': '17.1%', 'Elemental Mastery': '19', 'HP': '5.3%', 'ATK': '4.7%'}}, 'Pearl Cage': {}, \"Lavawalker's Torment\": {'Energy Recharge': {'ATK': '9.3%', 'CRIT Rate': '10.5%', 'CRIT DMG': '14.0%', 'DEF': '23'}}, \"Witch's Flower of Blaze\": {}, \"Witch's Ever-Burning Plume\": {}, \"Witch's End Time\": {}, \"Witch's Heart Flames\": {}, \"Maiden's Fading Beauty\": {}, 'Stainless Bloom': {}, \"Wise Doctor's Pinion\": {}, 'Moment of Cessation': {}, 'Lamp of the Lost': {}, 'Mocking Mask': {}, 'Labyrinth Wayfarer': {}, 'Scholar of Vines': {}, 'A Time of Insight': {}, 'Chalice of the Font': {}, 'Laurel Coronet': {}, 'Snowswept Memory': {}, \"Icebreaker's Resolve\": {}, \"Frozen Homeland's Demise\": {}, 'Omen of Thunderstorm': {}, \"Broken Rime's Echo\": {}}, 'Hu Tao': {\"Gladiator's Nostalgia\": {}, \"Gladiator's Destiny\": {}, 'Hourglass of Thunder': {}, 'Scarlet Vessel': {}, \"Thunder Summoner's Crown\": {}, 'Magnificent Tsuba': {}, 'Sundered Feather': {}, 'Storm Cage': {}, 'Goblet of Thundering Deep': {}, 'Ornate Kabuto': {}, 'Pearl Cage': {}, \"Lavawalker's Torment\": {}, \"Witch's Flower of Blaze\": {'HP': {'CRIT Rate': '5.8%', 'DEF': '21', 'CRIT DMG': '21.8%', 'Elemental Mastery': '42'}}, \"Witch's Ever-Burning Plume\": {'ATK': {'CRIT Rate': '8.6%', 'CRIT DMG': '14.8%', 'Elemental Mastery': '42', 'HP': '299'}}, \"Witch's End Time\": {'HP': {'DEF': '5.8%', 'Energy Recharge': '4.5%', 'CRIT DMG': '12.4%', 'CRIT Rate': '11.7%'}}, \"Witch's Heart Flames\": {'Pyro DMG Bonus': {'HP': '418', 'CRIT Rate': '10.1%', 'CRIT DMG': '10.9%', 'ATK': '5.8%'}}, \"Maiden's Fading Beauty\": {'CRIT Rate': {'CRIT DMG': '25.6%', 'HP': '16.9%', 'DEF': '19', 'Elemental Mastery': '21'}}, 'Stainless Bloom': {}, \"Wise Doctor's Pinion\": {}, 'Moment of Cessation': {}, 'Lamp of the Lost': {}, 'Mocking Mask': {}, 'Labyrinth Wayfarer': {}, 'Scholar of Vines': {}, 'A Time of Insight': {}, 'Chalice of the Font': {}, 'Laurel Coronet': {}, 'Snowswept Memory': {}, \"Icebreaker's Resolve\": {}, \"Frozen Homeland's Demise\": {}, 'Omen of Thunderstorm': {}, \"Broken Rime's Echo\": {}}, 'Eula': {\"Gladiator's Nostalgia\": {}, \"Gladiator's Destiny\": {}, 'Hourglass of Thunder': {}, 'Scarlet Vessel': {}, \"Thunder Summoner's Crown\": {}, 'Magnificent Tsuba': {}, 'Sundered Feather': {}, 'Storm Cage': {}, 'Goblet of Thundering Deep': {}, 'Ornate Kabuto': {}, 'Pearl Cage': {}, \"Lavawalker's Torment\": {}, \"Witch's Flower of Blaze\": {}, \"Witch's Ever-Burning Plume\": {}, \"Witch's End Time\": {}, \"Witch's Heart Flames\": {}, \"Maiden's Fading Beauty\": {}, 'Stainless Bloom': {'HP': {'DEF': '16', 'ATK': '5.8%', 'CRIT DMG': '14.0%', 'CRIT Rate': '13.6%'}}, \"Wise Doctor's Pinion\": {'ATK': {'CRIT Rate': '11.7%', 'HP': '21.0%', 'CRIT DMG': '7.8%', 'Elemental Mastery': '23'}}, 'Moment of Cessation': {'ATK': {'Energy Recharge': '16.8%', 'DEF': '23', 'CRIT DMG': '13.2%', 'CRIT Rate': '7.4%'}}, 'Lamp of the Lost': {'Physical DMG Bonus': {'ATK': '4.7%', 'CRIT DMG': '35.0%', 'CRIT Rate': '3.9%', 'DEF': '16'}}, 'Mocking Mask': {'CRIT Rate': {'CRIT DMG': '26.4%', 'DEF': '7.3%', 'Energy Recharge': '11.0%'}}, 'Labyrinth Wayfarer': {}, 'Scholar of Vines': {}, 'A Time of Insight': {}, 'Chalice of the Font': {}, 'Laurel Coronet': {}, 'Snowswept Memory': {}, \"Icebreaker's Resolve\": {}, \"Frozen Homeland's Demise\": {}, 'Omen of Thunderstorm': {}, \"Broken Rime's Echo\": {}}, 'Nahida': {\"Gladiator's Nostalgia\": {}, \"Gladiator's Destiny\": {}, 'Hourglass of Thunder': {}, 'Scarlet Vessel': {}, \"Thunder Summoner's Crown\": {}, 'Magnificent Tsuba': {}, 'Sundered Feather': {}, 'Storm Cage': {}, 'Goblet of Thundering Deep': {}, 'Ornate Kabuto': {}, 'Pearl Cage': {}, \"Lavawalker's Torment\": {}, \"Witch's Flower of Blaze\": {}, \"Witch's Ever-Burning Plume\": {}, \"Witch's End Time\": {}, \"Witch's Heart Flames\": {}, \"Maiden's Fading Beauty\": {}, 'Stainless Bloom': {}, \"Wise Doctor's Pinion\": {}, 'Moment of Cessation': {}, 'Lamp of the Lost': {}, 'Mocking Mask': {}, 'Labyrinth Wayfarer': {'HP': {'Energy Recharge': '6.5%', 'CRIT DMG': '27.2%', 'CRIT Rate': '3.9%', 'DEF': '12.4%'}}, 'Scholar of Vines': {'ATK': {'DEF': '16', 'CRIT DMG': '35.0%', 'Elemental Mastery': '42'}}, 'A Time of Insight': {'Elemental Mastery': {'CRIT DMG': '19.4%', 'HP': '4.7%', 'ATK': '16', 'Energy Recharge': '14.2%'}}, 'Chalice of the Font': {'Elemental Mastery': {'DEF': '39', 'CRIT DMG': '23.3%', 'CRIT Rate': '10.1%', 'HP': '239'}}, 'Laurel Coronet': {'CRIT Rate': {'HP': '5.8%', 'Elemental Mastery': '21', 'DEF': '12.4%', 'CRIT DMG': '28.8%'}}, 'Snowswept Memory': {}, \"Icebreaker's Resolve\": {}, \"Frozen Homeland's Demise\": {}, 'Omen of Thunderstorm': {}, \"Broken Rime's Echo\": {}}, 'Kamisato Ayaka': {\"Gladiator's Nostalgia\": {}, \"Gladiator's Destiny\": {}, 'Hourglass of Thunder': {}, 'Scarlet Vessel': {}, \"Thunder Summoner's Crown\": {}, 'Magnificent Tsuba': {}, 'Sundered Feather': {}, 'Storm Cage': {}, 'Goblet of Thundering Deep': {}, 'Ornate Kabuto': {}, 'Pearl Cage': {}, \"Lavawalker's Torment\": {}, \"Witch's Flower of Blaze\": {}, \"Witch's Ever-Burning Plume\": {}, \"Witch's End Time\": {}, \"Witch's Heart Flames\": {}, \"Maiden's Fading Beauty\": {}, 'Stainless Bloom': {}, \"Wise Doctor's Pinion\": {}, 'Moment of Cessation': {}, 'Lamp of the Lost': {}, 'Mocking Mask': {}, 'Labyrinth Wayfarer': {}, 'Scholar of Vines': {}, 'A Time of Insight': {}, 'Chalice of the Font': {}, 'Laurel Coronet': {}, 'Snowswept Memory': {'HP': {'ATK': '15.7%', 'Elemental Mastery': '44', 'CRIT Rate': '3.9%', 'CRIT DMG': '20.2%'}}, \"Icebreaker's Resolve\": {'ATK': {'HP': '209', 'CRIT Rate': '6.6%', 'Energy Recharge': '22.0%', 'CRIT DMG': '5.4%'}}, \"Frozen Homeland's Demise\": {'ATK': {'DEF': '6.6%', 'ATK': '19', 'CRIT DMG': '27.2%', 'HP': '9.9%'}}, 'Omen of Thunderstorm': {'Cryo DMG Bonus': {'ATK': '31', 'CRIT Rate': '6.6%', 'CRIT DMG': '29.5%', 'Energy Recharge': '6.5%'}}, \"Broken Rime's Echo\": {'CRIT DMG': {'HP': '299', 'ATK': '4.7%', 'DEF': '6.6%', 'CRIT Rate': '16.7%'}}}}\n"
     ]
    }
   ],
   "source": [
    "StatSummarized = {}\n",
    "\n",
    "for i in players_Characters['Characters']: #Characters Names\n",
    "    StatSummarized[i] = {} #{'Yae Miko': {}, 'Yelan': {}, 'Dehya': {}, 'Raiden Shogun': {}, 'Hu Tao': {}, 'Eula': {}, 'Nahida': {}, 'Kamisato Ayaka': {}}\n",
    "\n",
    "for i in StatSummarized:\n",
    "    for artifact_list in Artifacts['Artifact_Name']:\n",
    "        for j in artifact_list:\n",
    "            StatSummarized[i][j] = {} # Create a new dictionary for each artifact\n",
    "\n",
    "async def Stats():\n",
    "    async with client:\n",
    "        for char in data.characters:   \n",
    "            for artf in filter(lambda x: x.type == EquipmentsType.ARTIFACT, char.equipments):\n",
    "                # Add the stat to the corresponding character and artifact in StatSummarized\n",
    "                if char.name in StatSummarized and artf.detail.name in StatSummarized[char.name]:\n",
    "                    StatSummarized[char.name][artf.detail.name] = {artf.detail.mainstats.name: {}}\n",
    "                    # Add the substats\n",
    "                    for substat in artf.detail.substats:\n",
    "                        if substat.name and substat.value:  # Check if the substat has a name and value\n",
    "                            StatSummarized[char.name][artf.detail.name][artf.detail.mainstats.name][substat.name] = f\"{substat.value}{'%' if substat.type == DigitType.PERCENT else ''}\"\n",
    "    print(StatSummarized)\n",
    "\n",
    "                        \n",
    "                        \n",
    "                        \n",
    "                        \n",
    "\n",
    "\n",
    "\n",
    "await Stats()\n",
    "print(StatSummarized) #Fix This Erorr"
   ]
  },
  {
   "cell_type": "code",
   "execution_count": null,
   "id": "45de3dd3",
   "metadata": {},
   "outputs": [],
   "source": []
  }
 ],
 "metadata": {
  "kernelspec": {
   "display_name": "Python 3",
   "language": "python",
   "name": "python3"
  },
  "language_info": {
   "codemirror_mode": {
    "name": "ipython",
    "version": 3
   },
   "file_extension": ".py",
   "mimetype": "text/x-python",
   "name": "python",
   "nbconvert_exporter": "python",
   "pygments_lexer": "ipython3",
   "version": "3.8.8"
  }
 },
 "nbformat": 4,
 "nbformat_minor": 5
}
